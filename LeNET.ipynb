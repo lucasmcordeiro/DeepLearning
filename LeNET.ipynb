{
  "nbformat": 4,
  "nbformat_minor": 0,
  "metadata": {
    "colab": {
      "provenance": [],
      "gpuType": "T4",
      "authorship_tag": "ABX9TyOI81nJVLZ8Qkb4Dh3bpLT9",
      "include_colab_link": true
    },
    "kernelspec": {
      "name": "python3",
      "display_name": "Python 3"
    },
    "language_info": {
      "name": "python"
    },
    "accelerator": "GPU"
  },
  "cells": [
    {
      "cell_type": "markdown",
      "metadata": {
        "id": "view-in-github",
        "colab_type": "text"
      },
      "source": [
        "<a href=\"https://colab.research.google.com/github/lucasmcordeiro/DeepLearning/blob/main/LeNET.ipynb\" target=\"_parent\"><img src=\"https://colab.research.google.com/assets/colab-badge.svg\" alt=\"Open In Colab\"/></a>"
      ]
    },
    {
      "cell_type": "markdown",
      "source": [
        "#Notebook criado para iniciar meu treinamento em deeplearning usando pytorch"
      ],
      "metadata": {
        "id": "c_iTb0xqztbz"
      }
    },
    {
      "cell_type": "code",
      "source": [
        "import torch\n",
        "from torch import nn\n",
        "from torchvision import datasets\n",
        "from torch.utils.data import DataLoader\n",
        "from torchvision.transforms import ToTensor\n",
        "import matplotlib.pyplot as plt\n",
        "from torchsummary import summary"
      ],
      "metadata": {
        "id": "8zf-3FAFzRZZ"
      },
      "execution_count": 1,
      "outputs": []
    },
    {
      "cell_type": "code",
      "source": [
        "device = (\n",
        "    \"cuda\"\n",
        "    if torch.cuda.is_available()\n",
        "    else \"mps\"\n",
        "    if torch.backends.mps.is_available()\n",
        "    else \"cpu\"\n",
        ")\n",
        "print(f\"Using {device} device\")\n",
        "device = torch.device(device)"
      ],
      "metadata": {
        "colab": {
          "base_uri": "https://localhost:8080/"
        },
        "id": "HI5vggZkGkES",
        "outputId": "cdf99b51-9cdf-43e2-8a10-1dfbd1df1142"
      },
      "execution_count": 47,
      "outputs": [
        {
          "output_type": "stream",
          "name": "stdout",
          "text": [
            "Using cuda device\n"
          ]
        }
      ]
    },
    {
      "cell_type": "code",
      "source": [
        "device"
      ],
      "metadata": {
        "colab": {
          "base_uri": "https://localhost:8080/"
        },
        "id": "7T0WOky8xiws",
        "outputId": "39e0a237-2a3e-430f-df02-da313e2b8aff"
      },
      "execution_count": 48,
      "outputs": [
        {
          "output_type": "execute_result",
          "data": {
            "text/plain": [
              "device(type='cuda')"
            ]
          },
          "metadata": {},
          "execution_count": 48
        }
      ]
    },
    {
      "cell_type": "markdown",
      "source": [
        "Downloading train and test data"
      ],
      "metadata": {
        "id": "E2Q5N6uO5YrW"
      }
    },
    {
      "cell_type": "markdown",
      "source": [
        "MNIST dataset resource: https://yann.lecun.com/exdb/mnist/"
      ],
      "metadata": {
        "id": "edWUXetjUrhY"
      }
    },
    {
      "cell_type": "code",
      "source": [
        "TrainMNIST = datasets.MNIST(root=\"images/\", train=True, download=True, transform=ToTensor())\n",
        "TestMNIST = datasets.MNIST(root=\"images/\", train=False, download=True, transform=ToTensor())"
      ],
      "metadata": {
        "id": "BBNOr4od5c6B"
      },
      "execution_count": 44,
      "outputs": []
    },
    {
      "cell_type": "code",
      "source": [
        "data_loader_train = DataLoader(TrainMNIST, batch_size=64,)\n",
        "data_loader_test = DataLoader(TestMNIST, batch_size=64)"
      ],
      "metadata": {
        "id": "GZAIbb6S6Wzy"
      },
      "execution_count": 45,
      "outputs": []
    },
    {
      "cell_type": "code",
      "source": [
        "for X, y in data_loader_test:\n",
        "  print(X.shape)\n",
        "  print(y)\n",
        "  break"
      ],
      "metadata": {
        "colab": {
          "base_uri": "https://localhost:8080/"
        },
        "id": "NsTR2Q_O8G7X",
        "outputId": "205116ca-aa40-460d-bacf-c094a58f17f3"
      },
      "execution_count": 5,
      "outputs": [
        {
          "output_type": "stream",
          "name": "stdout",
          "text": [
            "torch.Size([64, 1, 28, 28])\n",
            "tensor([7, 2, 1, 0, 4, 1, 4, 9, 5, 9, 0, 6, 9, 0, 1, 5, 9, 7, 3, 4, 9, 6, 6, 5,\n",
            "        4, 0, 7, 4, 0, 1, 3, 1, 3, 4, 7, 2, 7, 1, 2, 1, 1, 7, 4, 2, 3, 5, 1, 2,\n",
            "        4, 4, 6, 3, 5, 5, 6, 0, 4, 1, 9, 5, 7, 8, 9, 3])\n"
          ]
        }
      ]
    },
    {
      "cell_type": "code",
      "source": [
        "figure = plt.figure(figsize=(8,8))\n",
        "cols, rows = (3,3)\n",
        "\n",
        "for i in range(1,cols*rows + 1):\n",
        "  sample_idx = torch.randint(len(TrainMNIST), size=(1,)).item()\n",
        "  img, label = TrainMNIST[sample_idx]\n",
        "  figure.add_subplot(rows, cols, i)\n",
        "  plt.title(label)\n",
        "  plt.axis(\"off\")\n",
        "  plt.imshow(img.squeeze())\n",
        "\n",
        "plt.show()"
      ],
      "metadata": {
        "colab": {
          "base_uri": "https://localhost:8080/",
          "height": 675
        },
        "id": "Xx6dRmsT8iEU",
        "outputId": "8e9c2299-712b-49ed-e6d9-3ab92e245dfd"
      },
      "execution_count": 6,
      "outputs": [
        {
          "output_type": "display_data",
          "data": {
            "text/plain": [
              "<Figure size 800x800 with 9 Axes>"
            ],
            "image/png": "[encoded data removed]"
          },
          "metadata": {}
        }
      ]
    },
    {
      "cell_type": "markdown",
      "source": [
        "The LeNet Architecture used expects a 32 x 32 input image size, but the dataset has images with 28 x 28 size, so I added a padding = 2 in the first convolutional layer."
      ],
      "metadata": {
        "id": "lwSWKxIImp1K"
      }
    },
    {
      "cell_type": "code",
      "source": [
        "class leNET(nn.Module):\n",
        "  def __init__(self) -> None:\n",
        "    super(leNET,self).__init__()\n",
        "\n",
        "    self.feature_extractor = nn.Sequential(\n",
        "        nn.Conv2d(in_channels=1, out_channels=6, kernel_size=(5,5), stride=1, padding=2),\n",
        "        nn.Tanh(),\n",
        "        nn.AvgPool2d(kernel_size=(2,2), stride=2),\n",
        "        nn.Conv2d(in_channels=6, out_channels=16, kernel_size=(5,5), stride=1),\n",
        "        nn.Tanh(),\n",
        "        nn.AvgPool2d(kernel_size=(2,2), stride=2),\n",
        "        nn.Conv2d(in_channels=16, out_channels=120, kernel_size=(5,5), stride=1),\n",
        "        nn.Tanh())\n",
        "\n",
        "\n",
        "    self.classifier = nn.Sequential(\n",
        "        nn.Linear(in_features=120, out_features=84),\n",
        "        nn.ReLU(),\n",
        "        nn.Linear(in_features=84, out_features=10))\n",
        "\n",
        "  def forward(self, x):\n",
        "    x = self.feature_extractor(x)\n",
        "    x = nn.Flatten()(x)\n",
        "    x = self.classifier(x)\n",
        "    x = nn.Softmax(dim=1)(x)\n",
        "    return x\n",
        "\n",
        ""
      ],
      "metadata": {
        "id": "Qkv3TsfBHZv6"
      },
      "execution_count": 7,
      "outputs": []
    },
    {
      "cell_type": "code",
      "source": [
        "model = leNET().to(device)"
      ],
      "metadata": {
        "id": "bNIBIS4wQIlK"
      },
      "execution_count": 53,
      "outputs": []
    },
    {
      "cell_type": "code",
      "source": [
        "next(model.parameters()).device"
      ],
      "metadata": {
        "colab": {
          "base_uri": "https://localhost:8080/"
        },
        "id": "UAg8r-vxv4Jl",
        "outputId": "4b478fa4-7a1f-40a0-8181-1c63b6280ea3"
      },
      "execution_count": 54,
      "outputs": [
        {
          "output_type": "execute_result",
          "data": {
            "text/plain": [
              "device(type='cuda', index=0)"
            ]
          },
          "metadata": {},
          "execution_count": 54
        }
      ]
    },
    {
      "cell_type": "code",
      "source": [
        "summary(model, (1,28,28))"
      ],
      "metadata": {
        "colab": {
          "base_uri": "https://localhost:8080/"
        },
        "id": "FQ4Rx1HHX-7X",
        "outputId": "b2f84bae-b0e9-42b1-9666-50ac6a262856"
      },
      "execution_count": 56,
      "outputs": [
        {
          "output_type": "stream",
          "name": "stdout",
          "text": [
            "----------------------------------------------------------------\n",
            "        Layer (type)               Output Shape         Param #\n",
            "================================================================\n",
            "            Conv2d-1            [-1, 6, 28, 28]             156\n",
            "              Tanh-2            [-1, 6, 28, 28]               0\n",
            "         AvgPool2d-3            [-1, 6, 14, 14]               0\n",
            "            Conv2d-4           [-1, 16, 10, 10]           2,416\n",
            "              Tanh-5           [-1, 16, 10, 10]               0\n",
            "         AvgPool2d-6             [-1, 16, 5, 5]               0\n",
            "            Conv2d-7            [-1, 120, 1, 1]          48,120\n",
            "              Tanh-8            [-1, 120, 1, 1]               0\n",
            "            Linear-9                   [-1, 84]          10,164\n",
            "             ReLU-10                   [-1, 84]               0\n",
            "           Linear-11                   [-1, 10]             850\n",
            "================================================================\n",
            "Total params: 61,706\n",
            "Trainable params: 61,706\n",
            "Non-trainable params: 0\n",
            "----------------------------------------------------------------\n",
            "Input size (MB): 0.00\n",
            "Forward/backward pass size (MB): 0.11\n",
            "Params size (MB): 0.24\n",
            "Estimated Total Size (MB): 0.35\n",
            "----------------------------------------------------------------\n"
          ]
        }
      ]
    },
    {
      "cell_type": "code",
      "source": [
        "learing_rate=0.001\n",
        "batch_size=64\n",
        "epochs=5\n",
        "\n",
        "loss_fn = nn.CrossEntropyLoss()\n",
        "optimizer = torch.optim.Adam(model.parameters(), lr=learing_rate)"
      ],
      "metadata": {
        "id": "KzudF0m3QjUG"
      },
      "execution_count": 57,
      "outputs": []
    },
    {
      "cell_type": "markdown",
      "source": [
        "Testing the model inputs and outputs"
      ],
      "metadata": {
        "id": "oMbKwf-glrns"
      }
    },
    {
      "cell_type": "code",
      "source": [
        "  img, label = TrainMNIST[sample_idx]\n",
        "  label = torch.tensor([label]).to(device)\n",
        "  img = img.unsqueeze(0).to(device)\n",
        "  pred = model(img)\n",
        "\n",
        "  print(pred)\n",
        "  print(label)\n",
        "  print(loss_fn(pred, label))\n",
        ""
      ],
      "metadata": {
        "colab": {
          "base_uri": "https://localhost:8080/"
        },
        "id": "rhkEZCkVVpNP",
        "outputId": "c60e9e28-db6f-4814-8f8c-ab04b7e70849"
      },
      "execution_count": 58,
      "outputs": [
        {
          "output_type": "stream",
          "name": "stdout",
          "text": [
            "tensor([[0.0955, 0.1087, 0.1104, 0.1034, 0.0981, 0.0964, 0.1046, 0.0868, 0.0945,\n",
            "         0.1016]], device='cuda:0', grad_fn=<SoftmaxBackward0>)\n",
            "tensor([3], device='cuda:0')\n",
            "tensor(2.2992, device='cuda:0', grad_fn=<NllLossBackward0>)\n"
          ]
        }
      ]
    },
    {
      "cell_type": "markdown",
      "source": [
        "The following code is based on pytorch documentation: https://pytorch.org/tutorials/beginner/basics/optimization_tutorial.html"
      ],
      "metadata": {
        "id": "yN8vEgo2mDE0"
      }
    },
    {
      "cell_type": "code",
      "source": [
        "def train_loop(data_loader_train, model, loss_fn, optimizer):\n",
        "  size = len(data_loader_train.dataset)\n",
        "  model.train()\n",
        "  for batch, (images, labels) in enumerate(data_loader_train):\n",
        "    images = images.to(device)\n",
        "    labels = labels.to(device)\n",
        "    #Compute prediction and loss\n",
        "    outputs = model(images)\n",
        "    loss = loss_fn(outputs, labels)\n",
        "\n",
        "    #Backpropagation\n",
        "    loss.backward()\n",
        "    optimizer.step()\n",
        "    optimizer.zero_grad()\n",
        "\n",
        "    if batch % 100 == 0:\n",
        "        loss, current = loss.item(), batch * batch_size + len(X)\n",
        "        print(f\"loss: {loss:>7f}  [{current:>5d}/{size:>5d}]\")\n",
        "\n",
        "def test_loop(dataloader, model, loss_fn):\n",
        "    # Set the model to evaluation mode - important for batch normalization and dropout layers\n",
        "    # Unnecessary in this situation but added for best practices\n",
        "    model.eval()\n",
        "    size = len(dataloader.dataset)\n",
        "    num_batches = len(dataloader)\n",
        "    test_loss, correct = 0, 0\n",
        "\n",
        "    # Evaluating the model with torch.no_grad() ensures that no gradients are computed during test mode\n",
        "    # also serves to reduce unnecessary gradient computations and memory usage for tensors with requires_grad=True\n",
        "    with torch.no_grad():\n",
        "        for X, y in dataloader:\n",
        "            X = X.to(device)\n",
        "            y = y.to(device)\n",
        "            pred = model(X)\n",
        "            test_loss += loss_fn(pred, y).item()\n",
        "            correct += (pred.argmax(1) == y).type(torch.float).sum().item()\n",
        "\n",
        "    test_loss /= num_batches\n",
        "    correct /= size\n",
        "    print(f\"Test Error: \\n Accuracy: {(100*correct):>0.1f}%, Avg loss: {test_loss:>8f} \\n\")"
      ],
      "metadata": {
        "id": "uZel9uPyTMSP"
      },
      "execution_count": 61,
      "outputs": []
    },
    {
      "cell_type": "code",
      "source": [
        "for t in range(epochs):\n",
        "    print(f\"Epoch {t+1}\\n-------------------------------\")\n",
        "    train_loop(data_loader_train, model, loss_fn, optimizer)\n",
        "    test_loop(data_loader_test, model, loss_fn)\n",
        "print(\"Done!\")"
      ],
      "metadata": {
        "colab": {
          "base_uri": "https://localhost:8080/"
        },
        "collapsed": true,
        "id": "hEZmrD32VJY2",
        "outputId": "98351622-36ce-4614-93f9-577f916d084b"
      },
      "execution_count": 62,
      "outputs": [
        {
          "output_type": "stream",
          "name": "stdout",
          "text": [
            "Epoch 1\n",
            "-------------------------------\n",
            "loss: 2.302074  [   64/60000]\n",
            "loss: 1.706915  [ 6464/60000]\n",
            "loss: 1.565181  [12864/60000]\n",
            "loss: 1.552731  [19264/60000]\n",
            "loss: 1.576885  [25664/60000]\n",
            "loss: 1.556743  [32064/60000]\n",
            "loss: 1.512423  [38464/60000]\n",
            "loss: 1.576863  [44864/60000]\n",
            "loss: 1.526038  [51264/60000]\n",
            "loss: 1.529329  [57664/60000]\n",
            "Test Error: \n",
            " Accuracy: 95.1%, Avg loss: 1.513432 \n",
            "\n",
            "Epoch 2\n",
            "-------------------------------\n",
            "loss: 1.495479  [   64/60000]\n",
            "loss: 1.498405  [ 6464/60000]\n",
            "loss: 1.519176  [12864/60000]\n",
            "loss: 1.503489  [19264/60000]\n",
            "loss: 1.502429  [25664/60000]\n",
            "loss: 1.505607  [32064/60000]\n",
            "loss: 1.477439  [38464/60000]\n",
            "loss: 1.515066  [44864/60000]\n",
            "loss: 1.506768  [51264/60000]\n",
            "loss: 1.523539  [57664/60000]\n",
            "Test Error: \n",
            " Accuracy: 96.3%, Avg loss: 1.499042 \n",
            "\n",
            "Epoch 3\n",
            "-------------------------------\n",
            "loss: 1.487679  [   64/60000]\n",
            "loss: 1.478705  [ 6464/60000]\n",
            "loss: 1.506878  [12864/60000]\n",
            "loss: 1.493212  [19264/60000]\n",
            "loss: 1.496362  [25664/60000]\n",
            "loss: 1.486546  [32064/60000]\n",
            "loss: 1.481983  [38464/60000]\n",
            "loss: 1.498797  [44864/60000]\n",
            "loss: 1.496389  [51264/60000]\n",
            "loss: 1.542490  [57664/60000]\n",
            "Test Error: \n",
            " Accuracy: 97.4%, Avg loss: 1.488106 \n",
            "\n",
            "Epoch 4\n",
            "-------------------------------\n",
            "loss: 1.477904  [   64/60000]\n",
            "loss: 1.492186  [ 6464/60000]\n",
            "loss: 1.479565  [12864/60000]\n",
            "loss: 1.499027  [19264/60000]\n",
            "loss: 1.482303  [25664/60000]\n",
            "loss: 1.468416  [32064/60000]\n",
            "loss: 1.475722  [38464/60000]\n",
            "loss: 1.504395  [44864/60000]\n",
            "loss: 1.493172  [51264/60000]\n",
            "loss: 1.506939  [57664/60000]\n",
            "Test Error: \n",
            " Accuracy: 98.0%, Avg loss: 1.482627 \n",
            "\n",
            "Epoch 5\n",
            "-------------------------------\n",
            "loss: 1.490204  [   64/60000]\n",
            "loss: 1.488561  [ 6464/60000]\n",
            "loss: 1.508700  [12864/60000]\n",
            "loss: 1.478216  [19264/60000]\n",
            "loss: 1.480490  [25664/60000]\n",
            "loss: 1.478449  [32064/60000]\n",
            "loss: 1.476833  [38464/60000]\n",
            "loss: 1.487263  [44864/60000]\n",
            "loss: 1.484656  [51264/60000]\n",
            "loss: 1.493440  [57664/60000]\n",
            "Test Error: \n",
            " Accuracy: 97.8%, Avg loss: 1.484005 \n",
            "\n",
            "Done!\n"
          ]
        }
      ]
    },
    {
      "cell_type": "code",
      "source": [
        "figure = plt.figure(figsize=(8,8))\n",
        "cols, rows = (3,3)\n",
        "with torch.no_grad():\n",
        "  for i in range(1,cols*rows + 1):\n",
        "    sample_idx = torch.randint(len(TrainMNIST), size=(1,)).item()\n",
        "    img, label = TrainMNIST[sample_idx]\n",
        "    img = img.to(device)\n",
        "    img = img.unsqueeze(0)\n",
        "\n",
        "    pred = model(img)\n",
        "    pred = pred.argmax(1).item()\n",
        "    figure.add_subplot(rows, cols, i)\n",
        "    plt.title(pred)\n",
        "    plt.axis(\"off\")\n",
        "    plt.imshow(img.squeeze().to('cpu'))\n",
        "\n",
        "  plt.show()"
      ],
      "metadata": {
        "colab": {
          "base_uri": "https://localhost:8080/",
          "height": 675
        },
        "id": "P8JT1aBCVU4h",
        "outputId": "f405caf3-19b2-4fbb-fe08-08eb82317c42"
      },
      "execution_count": 65,
      "outputs": [
        {
          "output_type": "display_data",
          "data": {
            "text/plain": [
              "<Figure size 800x800 with 9 Axes>"
            ],
            "image/png": "[encoded data removed]"
          },
          "metadata": {}
        }
      ]
    },
    {
      "cell_type": "code",
      "source": [],
      "metadata": {
        "id": "jxilCy0iP-vm"
      },
      "execution_count": 66,
      "outputs": []
    }
  ]
}